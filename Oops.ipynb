{
  "nbformat": 4,
  "nbformat_minor": 0,
  "metadata": {
    "colab": {
      "provenance": []
    },
    "kernelspec": {
      "name": "python3",
      "display_name": "Python 3"
    },
    "language_info": {
      "name": "python"
    }
  },
  "cells": [
    {
      "cell_type": "code",
      "execution_count": null,
      "metadata": {
        "colab": {
          "base_uri": "https://localhost:8080/"
        },
        "id": "ikpKP9dEUUG4",
        "outputId": "166a8e62-0ee1-43ec-ed20-529e600bbf43"
      },
      "outputs": [
        {
          "output_type": "stream",
          "name": "stdout",
          "text": [
            "<class 'int'>\n"
          ]
        }
      ],
      "source": [
        "a=1\n",
        "print(type(a))"
      ]
    },
    {
      "cell_type": "code",
      "source": [
        "class Faculty:\n",
        "  pass\n",
        "\n",
        "faculty=Faculty()\n",
        "print(type(faculty))"
      ],
      "metadata": {
        "colab": {
          "base_uri": "https://localhost:8080/"
        },
        "id": "q0xneGniUiyG",
        "outputId": "132cbc19-f2f3-411a-f05f-46f0bb9df422"
      },
      "execution_count": null,
      "outputs": [
        {
          "output_type": "stream",
          "name": "stdout",
          "text": [
            "<class '__main__.Faculty'>\n"
          ]
        }
      ]
    },
    {
      "cell_type": "code",
      "source": [
        "class Faculty:\n",
        "  pass\n",
        "\n",
        "faculty1=Faculty()\n",
        "faculty1.name=\"nahan\"\n",
        "print(faculty1.name)\n",
        "\n",
        "faculty2=Faculty()\n",
        "faculty2.name=\"shamil\"\n",
        "print(faculty2.name)\n",
        "\n",
        "print(type(faculty1))\n",
        "print(type(faculty2))"
      ],
      "metadata": {
        "colab": {
          "base_uri": "https://localhost:8080/"
        },
        "id": "ML0o5KWsUwRe",
        "outputId": "ff01ca93-7bb3-413c-ff63-2f0cd6a77cad"
      },
      "execution_count": null,
      "outputs": [
        {
          "output_type": "stream",
          "name": "stdout",
          "text": [
            "nahan\n",
            "shamil\n",
            "<class '__main__.Faculty'>\n",
            "<class '__main__.Faculty'>\n"
          ]
        }
      ]
    },
    {
      "cell_type": "code",
      "source": [
        "class Faculty:\n",
        "  inst_id=101\n",
        "  def __init__(self,name,age,place=\"manjeri\"):\n",
        "    self.name=name\n",
        "    self.age=age\n",
        "    self.place=place\n",
        "\n",
        "faculty1=Faculty(\"nahan\",18)\n",
        "faculty2=Faculty(\"shamil\",9,\"kozhikode\")\n",
        "\n",
        "print(faculty1.name)\n",
        "print(faculty2.name)\n",
        "print(faculty2.inst_id)\n",
        "print(faculty1.place)\n",
        "print(faculty2.place)"
      ],
      "metadata": {
        "colab": {
          "base_uri": "https://localhost:8080/"
        },
        "id": "NgRNlwKRVq6n",
        "outputId": "80612379-33f1-4a8c-deb1-4b1f43ada52b"
      },
      "execution_count": null,
      "outputs": [
        {
          "output_type": "stream",
          "name": "stdout",
          "text": [
            "nahan\n",
            "shamil\n",
            "101\n",
            "manjeri\n",
            "kozhikode\n"
          ]
        }
      ]
    },
    {
      "cell_type": "markdown",
      "source": [
        "#***`How to Create a Class`***"
      ],
      "metadata": {
        "id": "IlM2_LG0Zfps"
      }
    },
    {
      "cell_type": "code",
      "source": [
        "class Car:\n",
        "  company=\"BMW\"\n",
        "  model=\"m5\"\n",
        "  price=3000000\n",
        "  color=\"black\"\n",
        "\n",
        "  def displayDetails(self):\n",
        "    print(\"printing all details\")"
      ],
      "metadata": {
        "id": "fbOwrhtuZmfB"
      },
      "execution_count": null,
      "outputs": []
    },
    {
      "cell_type": "markdown",
      "source": [
        "#***`How to Create Object from the Class`***"
      ],
      "metadata": {
        "id": "4lfOHGopaQ15"
      }
    },
    {
      "cell_type": "code",
      "source": [
        "class Car:\n",
        "  company=\"BMW\"\n",
        "  model=\"m5\"\n",
        "  price=3000000\n",
        "  color=\"black\"\n",
        "\n",
        "  def displayDetails(self):\n",
        "    print(\"printing all details\")\n",
        "\n",
        "a=Car()\n",
        "b=Car()\n",
        "c=Car()\n",
        "\n",
        "print(a)"
      ],
      "metadata": {
        "colab": {
          "base_uri": "https://localhost:8080/"
        },
        "id": "FmqL1sGjaNKZ",
        "outputId": "948fd7ea-7771-4df3-ce38-4a8fdd085d38"
      },
      "execution_count": null,
      "outputs": [
        {
          "output_type": "stream",
          "name": "stdout",
          "text": [
            "<__main__.Car object at 0x7d8024fead90>\n"
          ]
        }
      ]
    },
    {
      "cell_type": "markdown",
      "source": [
        "#***`How to Check the Type of a,b,c?`***"
      ],
      "metadata": {
        "id": "q3zL2roEaqox"
      }
    },
    {
      "cell_type": "code",
      "source": [
        "class Car:\n",
        "  company=\"BMW\"\n",
        "  model=\"m5\"\n",
        "  price=3000000\n",
        "  color=\"black\"\n",
        "\n",
        "  def displayDetails(self):\n",
        "    print(\"printing all details\")\n",
        "\n",
        "a=Car()\n",
        "b=Car()\n",
        "c=Car()\n",
        "\n",
        "print(type(a))\n",
        "print(type(b))\n",
        "print(type(c))"
      ],
      "metadata": {
        "colab": {
          "base_uri": "https://localhost:8080/"
        },
        "id": "Wmdd7OP9ayDK",
        "outputId": "bf77e95d-034b-4ced-e64f-ebb27f82c227"
      },
      "execution_count": null,
      "outputs": [
        {
          "output_type": "stream",
          "name": "stdout",
          "text": [
            "<class '__main__.Car'>\n",
            "<class '__main__.Car'>\n",
            "<class '__main__.Car'>\n"
          ]
        }
      ]
    },
    {
      "cell_type": "markdown",
      "source": [
        "#***`Access the value of the variables-using class`***"
      ],
      "metadata": {
        "id": "eRZ1LKP5eTuI"
      }
    },
    {
      "cell_type": "code",
      "source": [
        "class Car:\n",
        "  company=\"BMW\"\n",
        "  model=\"m5\"\n",
        "  price=3000000\n",
        "  color=\"black\"\n",
        "\n",
        "  def displayDetails(self):\n",
        "    print(\"printing all details\")\n",
        "\n",
        "a=Car()\n",
        "print(Car.color,Car.company,Car.model,Car.price)"
      ],
      "metadata": {
        "colab": {
          "base_uri": "https://localhost:8080/"
        },
        "id": "DvZP7eAjcTTx",
        "outputId": "8698a2e5-b67c-4982-ff66-c11a83646e2a"
      },
      "execution_count": null,
      "outputs": [
        {
          "output_type": "stream",
          "name": "stdout",
          "text": [
            "black BMW m5 3000000\n"
          ]
        }
      ]
    },
    {
      "cell_type": "markdown",
      "source": [
        "#***`Access the value of the variables-using object`***"
      ],
      "metadata": {
        "id": "J0GrtbqEd76B"
      }
    },
    {
      "cell_type": "code",
      "source": [
        "class Car:\n",
        "  company=\"BMW\"\n",
        "  model=\"m5\"\n",
        "  price=3000000\n",
        "  color=\"black\"\n",
        "\n",
        "  def displayDetails(self):\n",
        "    print(\"printing all details\")\n",
        "\n",
        "a=Car()\n",
        "print(a.color,a.company,a.model,a.price)"
      ],
      "metadata": {
        "colab": {
          "base_uri": "https://localhost:8080/"
        },
        "id": "YNnXgS2Oc5WR",
        "outputId": "563d528f-95f4-4d6b-8122-a5163917e292"
      },
      "execution_count": null,
      "outputs": [
        {
          "output_type": "stream",
          "name": "stdout",
          "text": [
            "black BMW m5 3000000\n"
          ]
        }
      ]
    },
    {
      "cell_type": "markdown",
      "source": [
        "***`If you want to call function displayDetails`***"
      ],
      "metadata": {
        "id": "UbpA3w-VfqnI"
      }
    },
    {
      "cell_type": "code",
      "source": [
        "class Car:\n",
        "  company=\"BMW\"\n",
        "  model=\"m5\"\n",
        "  price=3000000\n",
        "  color=\"black\"\n",
        "\n",
        "  def displayDetails(self):\n",
        "    print(\"printing all details\")\n",
        "\n",
        "a=Car()\n",
        "a.displayDetails()"
      ],
      "metadata": {
        "colab": {
          "base_uri": "https://localhost:8080/"
        },
        "id": "bTJdkH3WdlZZ",
        "outputId": "42cef4f9-2b5a-4d82-d88f-f23a657ab91b"
      },
      "execution_count": null,
      "outputs": [
        {
          "output_type": "stream",
          "name": "stdout",
          "text": [
            "printing all details\n"
          ]
        }
      ]
    },
    {
      "cell_type": "markdown",
      "source": [
        "#***`Using Constructor (__init__)`***"
      ],
      "metadata": {
        "id": "WOC7F-R8nIin"
      }
    },
    {
      "cell_type": "code",
      "source": [
        "class Employee:\n",
        "  company_name=\"ABCD TECHNOLOGY\"\n",
        "  location=\"kochi\"\n",
        "\n",
        "  def __init__(self,id,name,salary):\n",
        "    self.emp_id=id\n",
        "    self.emp_name=name\n",
        "    self.emp_salary=salary\n",
        "  def get_details(self):\n",
        "    print(self.emp_id,self.emp_name,self.emp_salary)\n",
        "\n",
        "a=Employee(100,\"nahan\",50000)\n",
        "b=Employee(101,\"manu\",60000)\n",
        "\n",
        "a.get_details()\n",
        "b.get_details()"
      ],
      "metadata": {
        "id": "MJqreXiCnMnm",
        "colab": {
          "base_uri": "https://localhost:8080/"
        },
        "outputId": "efc3e402-8f53-4b14-edff-2b436f5ce918"
      },
      "execution_count": null,
      "outputs": [
        {
          "output_type": "stream",
          "name": "stdout",
          "text": [
            "100 nahan 50000\n",
            "101 manu 60000\n"
          ]
        }
      ]
    },
    {
      "cell_type": "markdown",
      "source": [
        ">q)\n",
        "\n",
        ">* create a class car with attributes brand,model and year\n",
        "* instantiate an object with brand=toyota,model=corolla and year=2020\n",
        "* print the attributes of the object"
      ],
      "metadata": {
        "id": "VDvpT615Qx5s"
      }
    },
    {
      "cell_type": "code",
      "source": [
        "class Car:\n",
        "  pass\n",
        "\n",
        "  def __init__(self,brand,model,year):\n",
        "    self.car_brand=brand\n",
        "    self.car_model=model\n",
        "    self.car_year=year\n",
        "\n",
        "  def get_details(self):\n",
        "    print(self.car_brand,self.car_model,self.car_year)\n",
        "\n",
        "a=Car(\"Toyota\",\"Corolla\",2020)\n",
        "\n",
        "a.get_details()"
      ],
      "metadata": {
        "colab": {
          "base_uri": "https://localhost:8080/"
        },
        "id": "lFMLVM4CRUTj",
        "outputId": "1042d7a5-da12-49e8-d86c-e1347dc8e459"
      },
      "execution_count": null,
      "outputs": [
        {
          "output_type": "stream",
          "name": "stdout",
          "text": [
            "Toyota Corolla 2020\n"
          ]
        }
      ]
    },
    {
      "cell_type": "code",
      "source": [
        "#Another method of last question\n",
        "\n",
        "class Car:\n",
        "  pass\n",
        "\n",
        "  def __init__(self,brand,model,year):\n",
        "    self.car_brand=brand\n",
        "    self.car_model=model\n",
        "    self.car_year=year\n",
        "\n",
        "a=Car(\"Toyota\",\"Corolla\",2020)\n",
        "\n",
        "print(f\"Brand:{a.car_brand}, Model:{a.car_model}, Year:{a.car_year}\")"
      ],
      "metadata": {
        "colab": {
          "base_uri": "https://localhost:8080/"
        },
        "id": "BdXTVz1VTlUr",
        "outputId": "89e69629-4d1c-4e19-f9e7-76e6b27a9239"
      },
      "execution_count": null,
      "outputs": [
        {
          "output_type": "stream",
          "name": "stdout",
          "text": [
            "Brand:Toyota, Model:Corolla, Year:2020\n"
          ]
        }
      ]
    },
    {
      "cell_type": "markdown",
      "source": [
        ">q)\n",
        "\n",
        ">* Add a class attribute wheels=4 to the car class\n",
        "* Access it using both the class name and an object"
      ],
      "metadata": {
        "id": "ZmnkYT5yU7ET"
      }
    },
    {
      "cell_type": "code",
      "source": [
        "class Car:\n",
        "  wheels=4\n",
        "\n",
        "  def __init__(self,brand,model,year,wheels):\n",
        "    self.car_brand=brand\n",
        "    self.car_model=model\n",
        "    self.car_year=year\n",
        "    self.car_wheels=wheels\n",
        "\n",
        "a=Car(\"Toyota\",\"Corolla\",2020,4)\n",
        "\n",
        "print(\"class attribute via class:\",Car.wheels)\n",
        "print(\"class attribute via object:\",a.wheels)"
      ],
      "metadata": {
        "colab": {
          "base_uri": "https://localhost:8080/"
        },
        "id": "Y8ojNYGtVQNT",
        "outputId": "dda32589-236c-4a23-a432-a86c4024498d"
      },
      "execution_count": null,
      "outputs": [
        {
          "output_type": "stream",
          "name": "stdout",
          "text": [
            "class attribute via class: 4\n",
            "class attribute via object: 4\n"
          ]
        }
      ]
    },
    {
      "cell_type": "markdown",
      "source": [
        ">q)\n",
        "\n",
        ">* write a class rectangle with attribute length and breadth\n",
        "* add a method area to calculate the area of the rectangle and return it"
      ],
      "metadata": {
        "id": "w9DEIR_CXUJb"
      }
    },
    {
      "cell_type": "code",
      "source": [
        "class Rectangle:\n",
        "  pass\n",
        "\n",
        "  def __init__(self,length,breadth):\n",
        "    self.rectangle_length=length\n",
        "    self.rectangle_breadth=breadth\n",
        "\n",
        "  def area(self):\n",
        "    print(self.rectangle_length*self.rectangle_breadth)\n",
        "\n",
        "a=Rectangle(10,5)\n",
        "a.area()"
      ],
      "metadata": {
        "colab": {
          "base_uri": "https://localhost:8080/"
        },
        "id": "qULra3FxXsPz",
        "outputId": "9c7a6fc6-3607-4bb9-c122-8628e327b5d6"
      },
      "execution_count": null,
      "outputs": [
        {
          "output_type": "stream",
          "name": "stdout",
          "text": [
            "50\n"
          ]
        }
      ]
    },
    {
      "cell_type": "markdown",
      "source": [
        ">q)\n",
        "\n",
        ">* create a class of students\n",
        "* add attributes name,age and id\n",
        "* create a method to display the attributes\n",
        "* create any 5 objects\n",
        "* display the details of object 2\n",
        "* access the first object name\n",
        "* display the details of object 3"
      ],
      "metadata": {
        "id": "bUZKFeFDaR1q"
      }
    },
    {
      "cell_type": "code",
      "source": [
        "class Students:\n",
        "  pass\n",
        "\n",
        "  def __init__(self,name,age,id):\n",
        "    self.student_name=name\n",
        "    self.student_age=age\n",
        "    self.student_id=id\n",
        "\n",
        "  def get_details(self):\n",
        "    print(self.student_name,self.student_age,self.student_id)\n",
        "\n",
        "obj1=Students(\"shamil\",20,101)\n",
        "obj2=Students(\"ajvad\",21,102)\n",
        "obj3=Students(\"abee\",22,103)\n",
        "obj4=Students(\"shabeer\",23,104)\n",
        "obj5=Students(\"anas\",24,105)\n",
        "\n",
        "obj2.get_details()\n",
        "print(obj1.student_name)\n",
        "obj3.get_details()"
      ],
      "metadata": {
        "colab": {
          "base_uri": "https://localhost:8080/"
        },
        "id": "dY3lbN7Ga_ii",
        "outputId": "94d5cb1e-c074-43e2-dc48-62db374a309c"
      },
      "execution_count": null,
      "outputs": [
        {
          "output_type": "stream",
          "name": "stdout",
          "text": [
            "ajvad 21 102\n",
            "shamil\n",
            "abee 22 103\n"
          ]
        }
      ]
    },
    {
      "cell_type": "markdown",
      "source": [
        ">q)\n",
        "\n",
        "* create a class called person with the following attributes:\n",
        "\n",
        "* name(string),age(integer),city(string)\n",
        "\n",
        "* The class should have the folowing methods:\n",
        "\n",
        " * introduce():this method should print a sentence introducing the person like:\"Hello,my name is[name],iam [age]years old,and i lives in [city]\"\n",
        "\n",
        " * is_adult():this method should return true if the person is 18 or older(an adult),otherwise return false.\n",
        "\n",
        "* then create atleast 2 objects of the person class,initialize them with appropriate values and   demonstrate calling the methods inreoduse() and is_adult()."
      ],
      "metadata": {
        "id": "A8hZesIafmID"
      }
    },
    {
      "cell_type": "code",
      "source": [
        "class Person:\n",
        "  pass\n",
        "\n",
        "  def __init__(self,name,age,city):\n",
        "    self.person_name=name\n",
        "    self.person_age=age\n",
        "    self.person_city=city\n",
        "\n",
        "  def introduce(self):\n",
        "    print(f\"Hello,my name is {self.person_name},iam {self.person_age} years old,and i lives in {self.person_city}\")\n",
        "\n",
        "  def is_adult(self):\n",
        "    return self.person_age>=18\n",
        "\n",
        "obj1=Person(\"shamil\",9,\"nilambur\")\n",
        "obj2=Person(\"abee\",18,\"karulai\")\n",
        "\n",
        "obj1.introduce()\n",
        "print(obj1.is_adult())\n",
        "\n",
        "obj2.introduce()\n",
        "print(obj2.is_adult())"
      ],
      "metadata": {
        "colab": {
          "base_uri": "https://localhost:8080/"
        },
        "id": "7DBGks33gXx7",
        "outputId": "1630597b-8061-4774-b8dc-9bde10877f88"
      },
      "execution_count": null,
      "outputs": [
        {
          "output_type": "stream",
          "name": "stdout",
          "text": [
            "Hello,my name is shamil,iam 9 years old,and i lives in nilambur\n",
            "False\n",
            "Hello,my name is abee,iam 18 years old,and i lives in karulai\n",
            "True\n"
          ]
        }
      ]
    },
    {
      "cell_type": "markdown",
      "source": [
        ">q)\n",
        "\n",
        "Create a class called Library that represents a library. Each book in the library will be represented by an\n",
        "object. The class should have the following features:\n",
        "1. Class Variable\n",
        "o total_books: A class variable that keeps track of the total number of books in the library.\n",
        "It should be updated whenever a new book is added or removed.\n",
        "\n",
        "2. Attributes (Instance Variables)\n",
        "o book_name (string): The name of the book.\n",
        "o author (string): The author of the book.\n",
        "o year (integer): The year the book was published.\n",
        "o availability (boolean): Whether the book is available in the library (True if available, False\n",
        "if checked out).\n",
        "\n",
        "3. Methods\n",
        "o __init__: Constructor to initialize the attributes, and it should also increase total_books\n",
        "by 1 whenever a new book is created.\n",
        "o check_availability: A method that returns whether the book is available or checked out.\n",
        "o borrow_book: A method that changes the availability to False when a book is borrowed\n",
        "and decreases total_books if the book is borrowed (considered removed from the library\n",
        "temporarily).\n",
        "o return_book: A method that changes the availability to True when a book is returned\n",
        "and increases total_books if the book is returned (considered added back to the library).\n",
        "o display_info: A method that prints the details of the book (book name, author, year, and\n",
        "availability).\n",
        "o display_total_books: A class method that prints the total number of books in the library.\n",
        "4. Create multiple objects (books) for the Library class, and demonstrate borrowing, returning\n",
        "books, and updating the total book count by calling appropriate methods.\n",
        "\n",
        "Example of What It Should Include\n",
        "1. When a new book is added, total_books should increase by 1.\n",
        "2. When a book is borrowed, total_books should decrease by 1.\n",
        "3. When a book is returned, total_books should increase by 1."
      ],
      "metadata": {
        "id": "qhedl-emq6gj"
      }
    },
    {
      "cell_type": "code",
      "source": [
        "class Library:\n",
        "  total_books=100\n",
        "\n",
        "  def __init__(self,book_name,author,year,availability=True):\n",
        "    self.book_name=book_name\n",
        "    self.book_author=author\n",
        "    self.book_year=year\n",
        "    self.book_availability=availability\n",
        "\n",
        "    Library.total_books+=1\n",
        "\n",
        "  def check_availability(self):\n",
        "    return self.availability\n",
        "\n",
        "  def borrow_book(self):\n",
        "    if self.book_availability:\n",
        "      self.book_availability=False\n",
        "      Library.total_books-=1\n",
        "      print(f\"You have borrowed {self.book_name}\")\n",
        "    else:\n",
        "      print(f\"{self.book_name} is currently unavailable\")\n",
        "\n",
        "  def return_book(self):\n",
        "    if not self.book_availability:\n",
        "      self.book_availability=True\n",
        "      Library.total_books+=1\n",
        "      print(f\"You have returned {self.book_name}\")\n",
        "    else:\n",
        "      print(f\"{self.book_name} is available in the library\")\n",
        "\n",
        "  def display_info(self):\n",
        "    status=\"Available\" if self.book_availability else \"Checked out\"\n",
        "    print(f\"Book name: {self.book_name}, Author: {self.book_author}, Year: {self.book_year}, Status: {status}\")\n",
        "\n",
        "  @classmethod\n",
        "  def display_total_books(cls):\n",
        "    print(f\"Total books are {cls.total_books}\")\n",
        "\n",
        "book1=Library(\"english\",\"george\",1949)\n",
        "book2=Library(\"maths\",\"john\",1960)\n",
        "book3=Library(\"physics\",\"jacob\",1980)\n",
        "\n",
        "Library.display_total_books()\n",
        "\n",
        "book1.borrow_book()\n",
        "Library.display_total_books()\n",
        "\n",
        "book1.borrow_book()\n",
        "\n",
        "book1.return_book()\n",
        "Library.display_total_books()\n",
        "\n",
        "book1.display_info()\n",
        "book2.display_info()\n",
        "book3.display_info()"
      ],
      "metadata": {
        "id": "c5R4nINkrHQ6",
        "colab": {
          "base_uri": "https://localhost:8080/"
        },
        "outputId": "68c7418f-c29d-407c-cf66-2bb47128b4cd"
      },
      "execution_count": null,
      "outputs": [
        {
          "output_type": "stream",
          "name": "stdout",
          "text": [
            "Total books are 103\n",
            "You have borrowed english\n",
            "Total books are 102\n",
            "english is currently unavailable\n",
            "You have returned english\n",
            "Total books are 103\n",
            "Book name: english, Author: george, Year: 1949, Status: Available\n",
            "Book name: maths, Author: john, Year: 1960, Status: Available\n",
            "Book name: physics, Author: jacob, Year: 1980, Status: Available\n"
          ]
        }
      ]
    },
    {
      "cell_type": "markdown",
      "source": [
        "#***`Inheritance`***"
      ],
      "metadata": {
        "id": "QEk1QW381QhK"
      }
    },
    {
      "cell_type": "code",
      "source": [
        "class Human:\n",
        "  def eat(self):\n",
        "    print(\"i can eat\")\n",
        "\n",
        "  def walk(self):\n",
        "    print(\"i can walk\")\n",
        "\n",
        "class Male(Human):\n",
        "  def talk(self):\n",
        "    print(\"i can talk\")\n",
        "\n",
        "male1=Male()\n",
        "\n",
        "male1.eat()\n",
        "male1.talk()"
      ],
      "metadata": {
        "colab": {
          "base_uri": "https://localhost:8080/"
        },
        "id": "FnDT7d32sl8L",
        "outputId": "1bd527dd-1fa5-4b9f-8106-4e47ae20265c"
      },
      "execution_count": null,
      "outputs": [
        {
          "output_type": "stream",
          "name": "stdout",
          "text": [
            "i can eat\n",
            "i can talk\n"
          ]
        }
      ]
    },
    {
      "cell_type": "markdown",
      "source": [
        "#***`Constructor Overriding`***"
      ],
      "metadata": {
        "id": "RofXvpSl6sYy"
      }
    },
    {
      "cell_type": "code",
      "source": [
        "class Human:\n",
        "  def eat(self):\n",
        "    print(\"i can eat\")\n",
        "\n",
        "  def walk(self):\n",
        "    print(\"i can walk\")\n",
        "\n",
        "class Male(Human):\n",
        "  def talk(self):\n",
        "    print(\"i can talk\")\n",
        "\n",
        "  def walk(self):\n",
        "    print(\"i can't walk\")\n",
        "    super().walk()\n",
        "\n",
        "male1=Male()\n",
        "\n",
        "male1.walk()"
      ],
      "metadata": {
        "colab": {
          "base_uri": "https://localhost:8080/"
        },
        "id": "Gqh3_T6c6n5q",
        "outputId": "bb941191-5565-4dbf-a18d-d0e97892c27a"
      },
      "execution_count": null,
      "outputs": [
        {
          "output_type": "stream",
          "name": "stdout",
          "text": [
            "i can't walk\n",
            "i can walk\n"
          ]
        }
      ]
    },
    {
      "cell_type": "code",
      "source": [
        "class Employee:\n",
        "  def __init__(self,name,age):\n",
        "    self.name=name\n",
        "    self.age=age\n",
        "\n",
        "class Developer(Employee):\n",
        "  pass\n",
        "\n",
        "dev1=Developer(\"nahan\",18)\n",
        "\n",
        "print(dev1.name)\n",
        "print(dev1.age)"
      ],
      "metadata": {
        "colab": {
          "base_uri": "https://localhost:8080/"
        },
        "id": "Db75920-NLAj",
        "outputId": "c076fd36-9092-4d84-e453-8a1cf2c01774"
      },
      "execution_count": null,
      "outputs": [
        {
          "output_type": "stream",
          "name": "stdout",
          "text": [
            "nahan\n",
            "18\n"
          ]
        }
      ]
    },
    {
      "cell_type": "code",
      "source": [
        "#orginal method\n",
        "class Employee:\n",
        "  def __init__(self,name,age):\n",
        "    self.emp_name=name\n",
        "    self.emp_age=age\n",
        "\n",
        "class Developer(Employee):\n",
        "  def __init__(self,name,age,language):\n",
        "    self.language=language\n",
        "    super().__init__(name,age)\n",
        "\n",
        "dev1=Developer(\"nahan\",18,\"python\")\n",
        "\n",
        "print(dev1.language)\n",
        "print(dev1.emp_name)\n",
        "print(dev1.emp_age)"
      ],
      "metadata": {
        "colab": {
          "base_uri": "https://localhost:8080/"
        },
        "id": "o8lnILpVOdNq",
        "outputId": "0d046aec-2699-4375-a9ba-03e23504936a"
      },
      "execution_count": null,
      "outputs": [
        {
          "output_type": "stream",
          "name": "stdout",
          "text": [
            "python\n",
            "nahan\n",
            "18\n"
          ]
        }
      ]
    },
    {
      "cell_type": "markdown",
      "source": [
        ">q)\n",
        "\n",
        ">* create a base class product with:\n",
        "* constructor (__init__) to initialize name and price\n",
        "* a method display_details() to print product details\n",
        "* create a subclass electronics with:\n",
        "\n",
        ">* constructor (__init__) to initialize name,price and warranty\n",
        "* override the display_details() method to include warranty\n",
        "* instantiate object of both classes and call their display_details() method"
      ],
      "metadata": {
        "id": "Nz5rWGzrQ5mB"
      }
    },
    {
      "cell_type": "code",
      "source": [
        "class Product:\n",
        "  def __init__(self,name,price):\n",
        "    self.prod_name=name\n",
        "    self.prod_price=price\n",
        "\n",
        "  def display_details(self):\n",
        "    print(f\"The product name is {self.prod_name} and the price is {self.prod_price}\")\n",
        "\n",
        "class Electronics(Product):\n",
        "  def __init__(self,name,price,warranty):\n",
        "    self.prod_warranty=warranty\n",
        "    super().__init__(name,price)\n",
        "\n",
        "  def display_details(self):\n",
        "    super().display_details()\n",
        "    print(f\"The product warranty is {self.prod_warranty} years\")\n",
        "\n",
        "p1=Product(\"computer\",30000)\n",
        "p1.display_details()\n",
        "\n",
        "p2=Electronics(\"laptop\",50000,3)\n",
        "p2.display_details()"
      ],
      "metadata": {
        "colab": {
          "base_uri": "https://localhost:8080/"
        },
        "id": "jlrfNklKQ2G6",
        "outputId": "330837e3-a43a-43bd-e9af-9926054d557e"
      },
      "execution_count": null,
      "outputs": [
        {
          "output_type": "stream",
          "name": "stdout",
          "text": [
            "The product name is computer and the price is 30000\n",
            "The product name is laptop and the price is 50000\n",
            "The product warranty is 3 years\n"
          ]
        }
      ]
    },
    {
      "cell_type": "markdown",
      "source": [
        "#***`Multiple Inheritance`***"
      ],
      "metadata": {
        "id": "E4LwPUeIj_bD"
      }
    },
    {
      "cell_type": "code",
      "source": [
        "class Human:\n",
        "  def eat(self):\n",
        "    print(\"i can eat\")\n",
        "\n",
        "  def work(self):\n",
        "    print(\"i can work\")\n",
        "\n",
        "class Male:\n",
        "  def flirt(self):\n",
        "    print(\"i can flirt\")\n",
        "\n",
        "  def work(self):\n",
        "    print(\"i can code\")\n",
        "\n",
        "class Boy(Male,Human):\n",
        "  pass\n",
        "\n",
        "boy1=Boy()\n",
        "\n",
        "boy1.eat()\n",
        "boy1.flirt()\n",
        "boy1.work()"
      ],
      "metadata": {
        "colab": {
          "base_uri": "https://localhost:8080/"
        },
        "id": "9gH6aqe4kIFT",
        "outputId": "37558e41-fa4e-4165-f975-508aeb584123"
      },
      "execution_count": null,
      "outputs": [
        {
          "output_type": "stream",
          "name": "stdout",
          "text": [
            "i can eat\n",
            "i can flirt\n",
            "i can code\n"
          ]
        }
      ]
    },
    {
      "cell_type": "markdown",
      "source": [
        "#***`Multilevel Inheritance`***"
      ],
      "metadata": {
        "id": "ZU_g8EGfle3V"
      }
    },
    {
      "cell_type": "code",
      "source": [
        "class Human:\n",
        "  def eat(self):\n",
        "    print(\"i can eat\")\n",
        "\n",
        "  def work(self):\n",
        "    print(\"i can work\")\n",
        "\n",
        "class Male:\n",
        "  def flirt(self):\n",
        "    print(\"i can flirt\")\n",
        "\n",
        "  def work(self):\n",
        "    print(\"i can code\")\n",
        "\n",
        "class Boy(Male,Human):\n",
        "  def work(self):\n",
        "    Male.work(self)\n",
        "\n",
        "boy1=Boy()\n",
        "\n",
        "boy1.eat()\n",
        "boy1.flirt()\n",
        "boy1.work()"
      ],
      "metadata": {
        "colab": {
          "base_uri": "https://localhost:8080/"
        },
        "id": "B218BhMPvukL",
        "outputId": "e3b9a5be-e40d-4141-ab8f-92fe458e64ca"
      },
      "execution_count": null,
      "outputs": [
        {
          "output_type": "stream",
          "name": "stdout",
          "text": [
            "i can eat\n",
            "i can flirt\n",
            "i can code\n"
          ]
        }
      ]
    },
    {
      "cell_type": "markdown",
      "source": [
        "#***`Polymorphism`***"
      ],
      "metadata": {
        "id": "4qjEvzX93igk"
      }
    },
    {
      "cell_type": "markdown",
      "source": [
        "##***`Method overriding`***"
      ],
      "metadata": {
        "id": "6Yg3BdfS6PBD"
      }
    },
    {
      "cell_type": "code",
      "source": [
        "#overriding\n",
        "class A:\n",
        "  def show(self):\n",
        "    print(\"Class A\")\n",
        "\n",
        "class B(A):\n",
        "  def show(self):\n",
        "    print(\"Class B\")\n",
        "\n",
        "class C(B):\n",
        "  def show(self):\n",
        "    print(\"Class C\")\n",
        "\n",
        "obj=C()\n",
        "obj.show()"
      ],
      "metadata": {
        "id": "kZRIND_kxM4b",
        "colab": {
          "base_uri": "https://localhost:8080/"
        },
        "outputId": "ed6bc1e7-b889-491c-8b08-614ce857fb62"
      },
      "execution_count": null,
      "outputs": [
        {
          "output_type": "stream",
          "name": "stdout",
          "text": [
            "Class C\n"
          ]
        }
      ]
    },
    {
      "cell_type": "code",
      "source": [
        "#overriding\n",
        "class A:\n",
        "  def show(self):\n",
        "    print(\"Class A\")\n",
        "\n",
        "class B(A):\n",
        "  def show(self):\n",
        "    print(\"Class B\")\n",
        "    super().show()\n",
        "\n",
        "class C(B):\n",
        "  def show(self):\n",
        "    print(\"Class C\")\n",
        "    super().show()\n",
        "\n",
        "obj=C()\n",
        "obj.show()"
      ],
      "metadata": {
        "colab": {
          "base_uri": "https://localhost:8080/"
        },
        "id": "rmInbjaX33fU",
        "outputId": "113f7d1a-614c-4dff-d7ab-c4f743952dfe"
      },
      "execution_count": null,
      "outputs": [
        {
          "output_type": "stream",
          "name": "stdout",
          "text": [
            "Class C\n",
            "Class B\n",
            "Class A\n"
          ]
        }
      ]
    },
    {
      "cell_type": "code",
      "source": [
        "#overriding\n",
        "class Animal:\n",
        "  def speak(self):\n",
        "    print(\"Animal is making a sound\")\n",
        "\n",
        "class Dog(Animal):\n",
        "  def speak(self):\n",
        "    print(\"Dog barks\")\n",
        "\n",
        "class Cat(Animal):\n",
        "  def speak(self):\n",
        "    print(\"Cat meows\")\n",
        "\n",
        "dog1=Dog()\n",
        "dog1.speak()\n",
        "\n",
        "animal=Animal()\n",
        "animal.speak()"
      ],
      "metadata": {
        "colab": {
          "base_uri": "https://localhost:8080/"
        },
        "id": "nQaN_aX15GyS",
        "outputId": "4974a961-5d63-41be-f2e1-d3a6240673c8"
      },
      "execution_count": null,
      "outputs": [
        {
          "output_type": "stream",
          "name": "stdout",
          "text": [
            "Dog barks\n",
            "Animal is making a sound\n"
          ]
        }
      ]
    },
    {
      "cell_type": "code",
      "source": [
        "#overriding\n",
        "class Animal:\n",
        "  def speak(self):\n",
        "    print(\"Animal is making a sound\")\n",
        "\n",
        "class Dog(Animal):\n",
        "  def speak(self):\n",
        "    print(\"Dog barks\")\n",
        "    super().speak()\n",
        "\n",
        "class Cat(Animal):\n",
        "  def speak(self):\n",
        "    print(\"Cat meows\")\n",
        "\n",
        "dog1=Dog()\n",
        "dog1.speak()"
      ],
      "metadata": {
        "colab": {
          "base_uri": "https://localhost:8080/"
        },
        "id": "PMlghzcE614i",
        "outputId": "d5cbe1f6-6c72-4807-8cb3-12af254c8db3"
      },
      "execution_count": null,
      "outputs": [
        {
          "output_type": "stream",
          "name": "stdout",
          "text": [
            "Dog barks\n",
            "Animal is making a sound\n"
          ]
        }
      ]
    },
    {
      "cell_type": "markdown",
      "source": [
        "##***`Method overloading`***"
      ],
      "metadata": {
        "id": "baf1kj6t-HGA"
      }
    },
    {
      "cell_type": "markdown",
      "source": [
        "***`Using Default arguments`***"
      ],
      "metadata": {
        "id": "opJW4cDJ-QKA"
      }
    },
    {
      "cell_type": "code",
      "source": [
        "class Calculator:\n",
        "  def add(self,a,b=0,c=0):\n",
        "    return a+b+c\n",
        "\n",
        "calc=Calculator()\n",
        "\n",
        "print(calc.add(5))\n",
        "print(calc.add(5,10))\n",
        "print(calc.add(5,10,20))"
      ],
      "metadata": {
        "colab": {
          "base_uri": "https://localhost:8080/"
        },
        "id": "VADX3ghT-apP",
        "outputId": "56347712-df20-4a7b-b1bd-6bac51ef33c5"
      },
      "execution_count": null,
      "outputs": [
        {
          "output_type": "stream",
          "name": "stdout",
          "text": [
            "5\n",
            "15\n",
            "35\n"
          ]
        }
      ]
    },
    {
      "cell_type": "markdown",
      "source": [
        "***`Using Variable-Length arguments`***"
      ],
      "metadata": {
        "id": "UznLfBU_ABLv"
      }
    },
    {
      "cell_type": "code",
      "source": [
        "class MathOperations:\n",
        "  def add(self,*numbers):\n",
        "    total=sum(numbers)\n",
        "    print(f\"Sum: {total}\")\n",
        "\n",
        "math=MathOperations()\n",
        "math.add(5)\n",
        "math.add(5,10)\n",
        "math.add(1,2,3,4,5)"
      ],
      "metadata": {
        "colab": {
          "base_uri": "https://localhost:8080/"
        },
        "id": "aCECxp6hAgQO",
        "outputId": "acc5c4f9-5b17-471b-9ae1-7b055db1ed34"
      },
      "execution_count": null,
      "outputs": [
        {
          "output_type": "stream",
          "name": "stdout",
          "text": [
            "Sum: 5\n",
            "Sum: 15\n",
            "Sum: 15\n"
          ]
        }
      ]
    },
    {
      "cell_type": "markdown",
      "source": [
        "***`Using *kwargs`***"
      ],
      "metadata": {
        "id": "JJ7MZxlTDWYN"
      }
    },
    {
      "cell_type": "code",
      "source": [
        "class Greeting:\n",
        "  def say_hello(self,**kwargs):\n",
        "    if \"name\" in kwargs and \"age\" in kwargs and \"city\" in kwargs:\n",
        "      print(f\"Hello, {kwargs['name']}\")\n",
        "      print(f\"You are {kwargs['age']} years old\")\n",
        "      print(f\"You live in {kwargs['city']}\")\n",
        "    else:\n",
        "      print(\"hello\")\n",
        "\n",
        "g=Greeting()\n",
        "#g.say_hello()\n",
        "\n",
        "g.say_hello(name=\"Nahan\",age=18,city=\"Nilambur\")"
      ],
      "metadata": {
        "colab": {
          "base_uri": "https://localhost:8080/"
        },
        "id": "sgMChzCIDdv0",
        "outputId": "f14c4e02-a767-4fe2-974f-ae35144c7cb7"
      },
      "execution_count": null,
      "outputs": [
        {
          "output_type": "stream",
          "name": "stdout",
          "text": [
            "Hello, Nahan\n",
            "You are 18 years old\n",
            "You live in Nilambur\n"
          ]
        }
      ]
    },
    {
      "cell_type": "markdown",
      "source": [
        "#***`Encapsulation`***"
      ],
      "metadata": {
        "id": "QNqqY94PV1WB"
      }
    },
    {
      "cell_type": "code",
      "source": [
        "class Company:\n",
        "  def __init__(self,company_name,company_id):\n",
        "    self.company_name=company_name\n",
        "    self.__company_id=company_id\n",
        "\n",
        "c1=Company(\"ALUNGAL\",100)\n",
        "                                      #use __ to hide a id/name\n",
        "print(c1.company_name)\n",
        "print(c1.__company_id)"
      ],
      "metadata": {
        "colab": {
          "base_uri": "https://localhost:8080/",
          "height": 201
        },
        "id": "QLHheZdqVu1D",
        "outputId": "d4821a62-0ebd-48b1-d880-e3c758f3ef7a"
      },
      "execution_count": null,
      "outputs": [
        {
          "output_type": "stream",
          "name": "stdout",
          "text": [
            "ALUNGAL\n"
          ]
        },
        {
          "output_type": "error",
          "ename": "AttributeError",
          "evalue": "'Company' object has no attribute '__company_id'",
          "traceback": [
            "\u001b[0;31m---------------------------------------------------------------------------\u001b[0m",
            "\u001b[0;31mAttributeError\u001b[0m                            Traceback (most recent call last)",
            "\u001b[0;32m<ipython-input-36-e9e13d556a2a>\u001b[0m in \u001b[0;36m<cell line: 0>\u001b[0;34m()\u001b[0m\n\u001b[1;32m      7\u001b[0m \u001b[0;34m\u001b[0m\u001b[0m\n\u001b[1;32m      8\u001b[0m \u001b[0mprint\u001b[0m\u001b[0;34m(\u001b[0m\u001b[0mc1\u001b[0m\u001b[0;34m.\u001b[0m\u001b[0mcompany_name\u001b[0m\u001b[0;34m)\u001b[0m\u001b[0;34m\u001b[0m\u001b[0;34m\u001b[0m\u001b[0m\n\u001b[0;32m----> 9\u001b[0;31m \u001b[0mprint\u001b[0m\u001b[0;34m(\u001b[0m\u001b[0mc1\u001b[0m\u001b[0;34m.\u001b[0m\u001b[0m__company_id\u001b[0m\u001b[0;34m)\u001b[0m\u001b[0;34m\u001b[0m\u001b[0;34m\u001b[0m\u001b[0m\n\u001b[0m",
            "\u001b[0;31mAttributeError\u001b[0m: 'Company' object has no attribute '__company_id'"
          ]
        }
      ]
    },
    {
      "cell_type": "code",
      "source": [
        "#to show that hidden id/name\n",
        "class Company:\n",
        "  def __init__(self,company_name,company_id):\n",
        "    self.company_name=company_name\n",
        "    self.__company_id=company_id\n",
        "\n",
        "  def get_company_id(self):\n",
        "    return self.__company_id\n",
        "\n",
        "c1=Company(\"ALUNGAL\",100)\n",
        "\n",
        "print(c1.company_name)\n",
        "\n",
        "print(c1.get_company_id())"
      ],
      "metadata": {
        "colab": {
          "base_uri": "https://localhost:8080/"
        },
        "id": "WNJutZjSbRNm",
        "outputId": "60049173-b7d3-4ed0-d59d-7da8fcd62b50"
      },
      "execution_count": null,
      "outputs": [
        {
          "output_type": "stream",
          "name": "stdout",
          "text": [
            "ALUNGAL\n",
            "100\n"
          ]
        }
      ]
    },
    {
      "cell_type": "markdown",
      "source": [
        "***`To set strings/numbers`***"
      ],
      "metadata": {
        "id": "jRvGpEYbjKWh"
      }
    },
    {
      "cell_type": "code",
      "source": [
        "class Company:\n",
        "  def __init__(self,company_name,company_id,company_ceo):\n",
        "    self.company_name=company_name\n",
        "    self.__company_id=company_id\n",
        "    self.__company_ceo=company_ceo\n",
        "\n",
        "  def get_company_id(self):\n",
        "    return self.__company_id\n",
        "\n",
        "  def set_ceo(self,setted_name):\n",
        "    self.__company_ceo=setted_name\n",
        "\n",
        "  def get_ceo(self):\n",
        "    return self.__company_ceo\n",
        "\n",
        "c1=Company(\"ALUNGAL\",100,\"nahan\")\n",
        "\n",
        "c1.set_ceo(\"manu\")    #here company_ceo is \"nahan\" but setted as \"manu\"\n",
        "print(c1.get_ceo())\n",
        "\n",
        "# print(c1.company_name)\n",
        "# print(c1.get_company_id())"
      ],
      "metadata": {
        "colab": {
          "base_uri": "https://localhost:8080/"
        },
        "id": "7cvDXI9FdJb8",
        "outputId": "f093546f-f3f8-456a-e269-07fdca4f963b"
      },
      "execution_count": null,
      "outputs": [
        {
          "output_type": "stream",
          "name": "stdout",
          "text": [
            "manu\n"
          ]
        }
      ]
    },
    {
      "cell_type": "markdown",
      "source": [
        "***`To set strings/numbers`***"
      ],
      "metadata": {
        "id": "RNv9rkmRjQ9D"
      }
    },
    {
      "cell_type": "code",
      "source": [
        "class Company:\n",
        "  def __init__(self,company_name,company_id,company_ceo):\n",
        "    self.company_name=company_name\n",
        "    self.__company_id=company_id\n",
        "    self.__company_ceo=company_ceo\n",
        "\n",
        "  def set_id(self,setted_id):\n",
        "    self.__company_id=setted_id\n",
        "\n",
        "\n",
        "  def get_id(self):\n",
        "    return self.__company_id\n",
        "\n",
        "  def get_company_ceo(self):\n",
        "    return self.__company_ceo\n",
        "\n",
        "\n",
        "c1=Company(\"ALUNGAL\",100,\"nahan\")\n",
        "\n",
        "c1.set_id(200)       #here company_id is 100 but setted as 200\n",
        "print(c1.get_id())\n",
        "\n",
        "# print(c1.company_name)\n",
        "# print(c1.get_company_ceo())"
      ],
      "metadata": {
        "colab": {
          "base_uri": "https://localhost:8080/"
        },
        "id": "lzI86HZCgAkK",
        "outputId": "0a74e68c-9096-4fb4-90b4-8867e9df8112"
      },
      "execution_count": null,
      "outputs": [
        {
          "output_type": "stream",
          "name": "stdout",
          "text": [
            "200\n"
          ]
        }
      ]
    },
    {
      "cell_type": "code",
      "source": [
        "class BankAccount:\n",
        "  def __init__(self,account_number,balance):\n",
        "    self.__bank_account_number=account_number\n",
        "    self.__bank_balance=balance\n",
        "\n",
        "  def deposit(self,amount):\n",
        "    if amount>0:\n",
        "      self.__bank_balance=self.__bank_balance + amount\n",
        "      print(f\"Deposited {amount}, New Balance: {self.__bank_balance}\")\n",
        "    else:\n",
        "      print(f\"Invalid deposit amount\")\n",
        "\n",
        "  def get_balance(self):\n",
        "    return self.__bank_balance\n",
        "\n",
        "account=BankAccount(\"12345\",1000)\n",
        "account.deposit(500)\n",
        "\n",
        "#print(account.__bank_balance)\n",
        "print(account.get_balance())"
      ],
      "metadata": {
        "colab": {
          "base_uri": "https://localhost:8080/"
        },
        "id": "zvCGrzvQhGKJ",
        "outputId": "44dd081c-f523-4c7a-dc60-33154b138f2f"
      },
      "execution_count": null,
      "outputs": [
        {
          "output_type": "stream",
          "name": "stdout",
          "text": [
            "Deposited 500, New Balance: 1500\n",
            "1500\n"
          ]
        }
      ]
    },
    {
      "cell_type": "markdown",
      "source": [
        ">q)\n",
        "\n",
        "Car Class\n",
        "\n",
        "You are asked to develop a class to manage car's fuel securely.\n",
        "\n",
        ">1.​Define a Python class Car with the following private attribute:\n",
        "\n",
        "      ○​ __fuel_level to store the fuel level in the car.\n",
        "\n",
        ">2.​Implement the following public methods:\n",
        "\n",
        "     ○​ add_fuel(amount) – A method to add fuel to the car.\n",
        "     ○​ get_fuel_level() – A method to display the current fuel level securely.\n",
        "\n",
        ">3.​ Demonstrate the usage of the class by:\n",
        "\n",
        "      ○​ Adding 20 units of fuel to the car.\n",
        "      ○​ Displaying the fuel level."
      ],
      "metadata": {
        "id": "YmR28HXF1n-N"
      }
    },
    {
      "cell_type": "code",
      "source": [
        "class Car:\n",
        "  def __init__(self,fuel):\n",
        "    self.__fuel_level=fuel\n",
        "\n",
        "  def add_fuel(self,amount):\n",
        "    if amount>0:\n",
        "      self.__fuel_level=self.__fuel_level + amount\n",
        "      print(f\"{amount}rs of fuel were added, New fuel: {self.__fuel_level}\")\n",
        "    else:\n",
        "      print(f\"Invalid amount of fuel\")\n",
        "\n",
        "  def get_fuel_level(self):\n",
        "    return self.__fuel_level\n",
        "\n",
        "fuel=Car(100)\n",
        "\n",
        "fuel.add_fuel(20)\n",
        "\n",
        "print(fuel.get_fuel_level())"
      ],
      "metadata": {
        "colab": {
          "base_uri": "https://localhost:8080/"
        },
        "id": "orel3qDoyjn9",
        "outputId": "64f97f1d-81f7-43ee-a710-ff324c09b6e4"
      },
      "execution_count": null,
      "outputs": [
        {
          "output_type": "stream",
          "name": "stdout",
          "text": [
            "20rs of fuel were added, New fuel: 120\n",
            "120\n"
          ]
        }
      ]
    },
    {
      "cell_type": "markdown",
      "source": [
        "ATM Class\n",
        "\n",
        "You are required to implement a secure ATM system\n",
        "\n",
        "1.​ Define a Python class ATM with the following private attributes:\n",
        "\n",
        "    ○​ __pin to store the user's ATM PIN securely.\n",
        "\n",
        "    ○​ __balance to store the current account balance.\n",
        "\n",
        "2.​ Implement the following public methods:○​ set_pin(pin) – A method to\n",
        "securely set the ATM PIN.\n",
        "\n",
        "    ○​ check_balance(pin) – A method to check the balance after PINverification.\n",
        "\n",
        "3.​ Demonstrate the usage of the class by:\n",
        "\n",
        "    ○​ Setting the PIN to 1234.\n",
        "\n",
        "    ○​ Checking the balance by providing the correct PIN."
      ],
      "metadata": {
        "id": "yaANM7pu55AK"
      }
    },
    {
      "cell_type": "code",
      "source": [
        "class ATM:\n",
        "    def __init__(self):\n",
        "        self.__atm_pin=None\n",
        "        self.__atm_balance=1000\n",
        "\n",
        "    def set_pin(self,pin):\n",
        "        self.__atm_pin=pin\n",
        "        print(\"PIN set successfully\")\n",
        "\n",
        "    def check_balance(self,pin):\n",
        "        if pin==self.__atm_pin:\n",
        "            print(f\"Balance: {self.__atm_balance}\")\n",
        "        else:\n",
        "            print(\"Incorrect PIN\")\n",
        "\n",
        "atm =ATM()\n",
        "atm.set_pin(1234)\n",
        "atm.check_balance(1234)"
      ],
      "metadata": {
        "colab": {
          "base_uri": "https://localhost:8080/"
        },
        "id": "TpQMYl-DholU",
        "outputId": "87305a5e-1d1f-47b6-bccb-5b355d00ccfc"
      },
      "execution_count": null,
      "outputs": [
        {
          "output_type": "stream",
          "name": "stdout",
          "text": [
            "PIN set successfully\n",
            "Balance: 1000\n"
          ]
        }
      ]
    },
    {
      "cell_type": "markdown",
      "source": [
        "#***`Abstraction`***"
      ],
      "metadata": {
        "id": "_JI-8cMgicRk"
      }
    },
    {
      "cell_type": "code",
      "source": [
        "from abc import ABC, abstractmethod\n",
        "\n",
        "class Vehicle(ABC):\n",
        "  def start_engine(self):\n",
        "    print(\"Engine started\")\n",
        "\n",
        "  def apply_brake(self):\n",
        "    print(\"Brake applied\")\n",
        "\n",
        "  def stop_engine(self):\n",
        "    print(\"Engine Stopped\")\n",
        "\n",
        "  @abstractmethod\n",
        "  def change_gear(self):\n",
        "    pass\n",
        "\n",
        "\n",
        "class Car(Vehicle):\n",
        "  def open_sunroof(self):\n",
        "    print(\"sunroof opened\")\n",
        "\n",
        "  def change_gear(self):\n",
        "    print(\"the gear changed automatically\")\n",
        "\n",
        "class truck(Vehicle):\n",
        "  def load_weight(self):\n",
        "    print(\"weight loaded\")\n",
        "\n",
        "  def change_gear(self):\n",
        "    print(\"the gear changed manually\")\n",
        "\n",
        "\n",
        "\n",
        "c=Car()\n",
        "t=truck()\n",
        "c.change_gear()\n",
        "t.change_gear()"
      ],
      "metadata": {
        "colab": {
          "base_uri": "https://localhost:8080/"
        },
        "id": "b4NOk9Fpi0TT",
        "outputId": "21dcba4e-e59a-423e-8b25-f01df327ffde"
      },
      "execution_count": null,
      "outputs": [
        {
          "output_type": "stream",
          "name": "stdout",
          "text": [
            "the gear changed automatically\n",
            "the gear changed manually\n"
          ]
        }
      ]
    },
    {
      "cell_type": "markdown",
      "source": [
        ">q)\n",
        "\n",
        ">* Create an abstract class payment with an abstract method make_payment()\n",
        "* Implement subclasses CreditCard and UPI, where each provides its implementation for make_payment()\n",
        "* Demonstrate the usage by calling the methods on both subclasses"
      ],
      "metadata": {
        "id": "C1qjh-kMphrq"
      }
    },
    {
      "cell_type": "code",
      "source": [
        "from abc import ABC, abstractmethod\n",
        "\n",
        "class Payment(ABC):\n",
        "    @abstractmethod\n",
        "    def make_payment(self,amount):\n",
        "        pass\n",
        "\n",
        "class CreditCard(Payment):\n",
        "    def make_payment(self,amount):\n",
        "        print(f\"Paid {amount} using Credit Card.\")\n",
        "\n",
        "class UPI(Payment):\n",
        "    def make_payment(self,amount):\n",
        "        print(f\"Paid {amount} using UPI.\")\n",
        "\n",
        "credit_card_payment=CreditCard()\n",
        "upi_payment=UPI()\n",
        "\n",
        "credit_card_payment.make_payment(500)\n",
        "upi_payment.make_payment(1000)"
      ],
      "metadata": {
        "colab": {
          "base_uri": "https://localhost:8080/"
        },
        "id": "b9yWug3fhutk",
        "outputId": "bae5ab80-2d9d-4f9d-b51d-4c99114adcdc"
      },
      "execution_count": null,
      "outputs": [
        {
          "output_type": "stream",
          "name": "stdout",
          "text": [
            "Paid 500 using Credit Card.\n",
            "Paid 1000 using UPI.\n"
          ]
        }
      ]
    },
    {
      "cell_type": "markdown",
      "source": [
        ">q)\n",
        "\n",
        ">* Create an abstract class shape with an abstract method calculate_area()\n",
        "* Implement subclasses circle and square\n",
        "* For circle,calculate the area using the radius and for square\n",
        "* Calculate the area using the side length"
      ],
      "metadata": {
        "id": "bOXcZiqJrPSy"
      }
    },
    {
      "cell_type": "code",
      "source": [
        "from abc import ABC, abstractmethod\n",
        "from math import pi\n",
        "\n",
        "class Shape(ABC):\n",
        "  @abstractmethod\n",
        "  def calculate_area(self,area):\n",
        "    pass\n",
        "\n",
        "class Circle(Shape):\n",
        "  def __init__(self,radius):\n",
        "    self.area_radius=radius\n",
        "\n",
        "  def calculate_area(self):\n",
        "    print(f\"Area of circle: {pi*self.area_radius**2:.2f}\")\n",
        "\n",
        "class Square(Shape):\n",
        "  def __init__(self,side):\n",
        "    self.area_side=side\n",
        "\n",
        "  def calculate_area(self):\n",
        "    print(f\"Area of square: {self.area_side**2}\")     #side of circle=side**2 (side square)\n",
        "\n",
        "circle1=Circle(5)\n",
        "square1=Square(4)\n",
        "\n",
        "circle1.calculate_area()\n",
        "square1.calculate_area()"
      ],
      "metadata": {
        "colab": {
          "base_uri": "https://localhost:8080/"
        },
        "id": "sKrW9FcxsW_i",
        "outputId": "a2556e9d-b3b1-4838-f2af-b88176f708fa"
      },
      "execution_count": null,
      "outputs": [
        {
          "output_type": "stream",
          "name": "stdout",
          "text": [
            "Area of circle: 78.54\n",
            "Area of square: 16\n"
          ]
        }
      ]
    },
    {
      "cell_type": "markdown",
      "source": [
        ">q)\n",
        "\n",
        ">* Create an abstract class Animal with an abstract method speak()\n",
        "* Implement the speak() method in subclasses Dog and Bird to print their respective sounds"
      ],
      "metadata": {
        "id": "EyKfyb7P3R6x"
      }
    },
    {
      "cell_type": "code",
      "source": [
        "from abc import ABC, abstractmethod\n",
        "\n",
        "class Animal(ABC):\n",
        "   @abstractmethod\n",
        "   def speak(self):\n",
        "    pass\n",
        "\n",
        "class Dog(Animal):\n",
        "  def speak(self):\n",
        "    print(\"Dog barks\")\n",
        "\n",
        "class Bird(Animal):\n",
        "  def speak(self):\n",
        "    print(\"Bird chirps\")\n",
        "\n",
        "dog1=Dog()\n",
        "bird1=Bird()\n",
        "\n",
        "dog1.speak()\n",
        "bird1.speak()"
      ],
      "metadata": {
        "colab": {
          "base_uri": "https://localhost:8080/"
        },
        "id": "WFACBCEh3vWg",
        "outputId": "9b8d2b57-d905-41b1-9fbb-5244a08c495c"
      },
      "execution_count": null,
      "outputs": [
        {
          "output_type": "stream",
          "name": "stdout",
          "text": [
            "Dog barks\n",
            "Bird chirps\n"
          ]
        }
      ]
    }
  ]
}